{
 "cells": [
  {
   "cell_type": "markdown",
   "metadata": {
    "id": "4i10uMJq1Cr9"
   },
   "source": [
    "# Gesture Recognition\n",
    "In this group project, you are going to build a 3D Conv model that will be able to predict the 5 gestures correctly. Please import the following libraries to get started."
   ]
  },
  {
   "cell_type": "code",
   "execution_count": 3,
   "metadata": {
    "colab": {
     "base_uri": "https://localhost:8080/"
    },
    "id": "2G7rgSW01CsC",
    "outputId": "d28b4797-e0e7-4e3c-fa32-e5fcac2e6dbc"
   },
   "outputs": [
    {
     "name": "stdout",
     "output_type": "stream",
     "text": [
      "Requirement already satisfied: imageio in /usr/local/lib/python3.8/dist-packages (2.19.0)\n",
      "Requirement already satisfied: pillow in /usr/local/lib/python3.8/dist-packages (9.0.1)\n",
      "Requirement already satisfied: numpy in /usr/local/lib/python3.8/dist-packages (from imageio) (1.19.4)\n",
      "\u001b[33mWARNING: Running pip as the 'root' user can result in broken permissions and conflicting behaviour with the system package manager. It is recommended to use a virtual environment instead: https://pip.pypa.io/warnings/venv\u001b[0m\u001b[33m\n",
      "\u001b[0m\u001b[33mWARNING: You are using pip version 22.0.3; however, version 24.3.1 is available.\n",
      "You should consider upgrading via the '/usr/bin/python -m pip install --upgrade pip' command.\u001b[0m\u001b[33m\n",
      "\u001b[0mRequirement already satisfied: opencv-python in /usr/local/lib/python3.8/dist-packages (4.5.5.64)\n",
      "Requirement already satisfied: numpy>=1.14.5 in /usr/local/lib/python3.8/dist-packages (from opencv-python) (1.19.4)\n",
      "\u001b[33mWARNING: Running pip as the 'root' user can result in broken permissions and conflicting behaviour with the system package manager. It is recommended to use a virtual environment instead: https://pip.pypa.io/warnings/venv\u001b[0m\u001b[33m\n",
      "\u001b[0m\u001b[33mWARNING: You are using pip version 22.0.3; however, version 24.3.1 is available.\n",
      "You should consider upgrading via the '/usr/bin/python -m pip install --upgrade pip' command.\u001b[0m\u001b[33m\n",
      "\u001b[0m"
     ]
    }
   ],
   "source": [
    "import numpy as np\n",
    "import os\n",
    "!pip install imageio pillow\n",
    "import imageio\n",
    "from PIL import Image\n",
    "import datetime\n",
    "import os\n",
    "from PIL import Image\n",
    "!pip install opencv-python\n",
    "\n",
    "\n",
    "#write your model here\n",
    "\n",
    "import pathlib\n",
    "import tensorflow as tf\n",
    "import matplotlib.pyplot as plt\n",
    "import numpy as np\n",
    "import pandas as pd\n",
    "import os\n",
    "import PIL\n",
    "from tensorflow import keras\n",
    "from tensorflow.keras import layers\n",
    "from tensorflow.keras.models import Sequential\n",
    "from tensorflow.keras import datasets, layers, models\n",
    "from tensorflow.keras.layers import Conv3D,MaxPooling3D,Flatten, Dense,Rescaling,Activation,BatchNormalization,Dropout,RandomFlip,RandomRotation\n",
    "from tensorflow.keras.regularizers import l2\n"
   ]
  },
  {
   "cell_type": "code",
   "execution_count": 4,
   "metadata": {
    "id": "6Era3mcUALqh"
   },
   "outputs": [],
   "source": [
    "import cv2"
   ]
  },
  {
   "cell_type": "markdown",
   "metadata": {
    "id": "e-W86zgE1CsE"
   },
   "source": [
    "We set the random seed so that the results don't vary drastically."
   ]
  },
  {
   "cell_type": "code",
   "execution_count": 5,
   "metadata": {
    "id": "mSaxn_771CsF"
   },
   "outputs": [],
   "source": [
    "np.random.seed(30)\n",
    "import random as rn\n",
    "rn.seed(30)\n",
    "from keras import backend as K\n",
    "import tensorflow as tf\n",
    "tf.random.set_seed(42)\n"
   ]
  },
  {
   "cell_type": "code",
   "execution_count": 6,
   "metadata": {
    "colab": {
     "base_uri": "https://localhost:8080/"
    },
    "id": "6llbEe6cZyYo",
    "outputId": "eaf1f61f-53e0-4ad8-be8e-f3b34a5d3746"
   },
   "outputs": [],
   "source": [
    "##from google.colab import drive\n",
    "#drive.mount('/content/drive')"
   ]
  },
  {
   "cell_type": "code",
   "execution_count": 7,
   "metadata": {
    "colab": {
     "base_uri": "https://localhost:8080/"
    },
    "id": "b4QlaWqr47qh",
    "outputId": "e2363f96-33b1-4e19-c512-779050a62f63"
   },
   "outputs": [
    {
     "name": "stdout",
     "output_type": "stream",
     "text": [
      "['Starter_Code_Gesture_Recognition.ipynb', '.ipynb_checkpoints', 'Project_data.zip', 'Neural_Nets_Project_Starter_Code (6).ipynb']\n",
      "Checking file: /home/dl_content/Upgrad DL/Gesture Recognition Assignment/Project_data.zip\n",
      "File /home/dl_content/Upgrad DL/Gesture Recognition Assignment/Project_data.zip is a valid zip file.\n"
     ]
    }
   ],
   "source": [
    "import os\n",
    "\n",
    "# List uploaded files\n",
    "uploaded_files = os.listdir('/home/dl_content/Upgrad DL/Gesture Recognition Assignment')\n",
    "print(uploaded_files)\n",
    "\n",
    "# Verify the file extension\n",
    "zip_file_path = '/home/dl_content/Upgrad DL/Gesture Recognition Assignment/Project_data.zip'  # Ensure this matches the uploaded file name\n",
    "print(f\"Checking file: {zip_file_path}\")\n",
    "\n",
    "# Check if the file is a valid ZIP file\n",
    "import zipfile\n",
    "\n",
    "try:\n",
    "    with zipfile.ZipFile(zip_file_path, 'r') as zip_ref:\n",
    "        print(f\"File {zip_file_path} is a valid zip file.\")\n",
    "except zipfile.BadZipFile:\n",
    "    print(f\"File {zip_file_path} is not a valid zip file.\")\n"
   ]
  },
  {
   "cell_type": "code",
   "execution_count": 8,
   "metadata": {
    "colab": {
     "base_uri": "https://localhost:8080/"
    },
    "id": "kGLCykMR48Yg",
    "outputId": "e060dc18-f100-4752-a4af-77f00dbecee4"
   },
   "outputs": [
    {
     "name": "stdout",
     "output_type": "stream",
     "text": [
      "Folder extracted to: /home/dl_content/Upgrad DL/Gesture Recognition Assignment/Project_data/\n"
     ]
    }
   ],
   "source": [
    "import shutil\n",
    "\n",
    "zip_file_path = '/home/dl_content/Upgrad DL/Gesture Recognition Assignment/Project_data.zip'  # Adjust the filename if needed\n",
    "if os.path.exists('/home/dl_content/Upgrad DL/Gesture Recognition Assignment/Project_data'):\n",
    "  shutil.rmtree('/home/dl_content/Upgrad DL/Gesture Recognition Assignment/Project_data')\n",
    "extracted_folder_path = '/home/dl_content/Upgrad DL/Gesture Recognition Assignment/Project_data/'  # You can change this to any folder name\n",
    "\n",
    "# Extract the zip file\n",
    "with zipfile.ZipFile(zip_file_path, 'r') as zip_ref:\n",
    "    zip_ref.extractall(extracted_folder_path)\n",
    "\n",
    "print(f\"Folder extracted to: {extracted_folder_path}\")\n"
   ]
  },
  {
   "cell_type": "code",
   "execution_count": null,
   "metadata": {
    "id": "inUbX1TY4-dq"
   },
   "outputs": [],
   "source": []
  },
  {
   "cell_type": "markdown",
   "metadata": {
    "id": "9IZmvPNB1CsH"
   },
   "source": [
    "In this block, you read the folder names for training and validation. You also set the `batch_size` here. Note that you set the batch size in such a way that you are able to use the GPU in full capacity. You keep increasing the batch size until the machine throws an error."
   ]
  },
  {
   "cell_type": "code",
   "execution_count": 9,
   "metadata": {
    "colab": {
     "base_uri": "https://localhost:8080/"
    },
    "id": "MLiXlgo01CsI",
    "outputId": "8f8bcf6d-6973-446e-ac04-fc9ba7bcd05b"
   },
   "outputs": [],
   "source": [
    "train_doc = np.random.permutation(open('/home/dl_content/Upgrad DL/Gesture Recognition Assignment/Project_data/Project_data/train.csv').readlines())\n",
    "val_doc = np.random.permutation(open('/home/dl_content/Upgrad DL/Gesture Recognition Assignment/Project_data/Project_data/val.csv').readlines())\n",
    "batch_size = 50\n",
    "#print(train_doc)"
   ]
  },
  {
   "cell_type": "markdown",
   "metadata": {
    "id": "srBEPqOl1CsK"
   },
   "source": [
    "## Generator\n",
    "This is one of the most important part of the code. The overall structure of the generator has been given. In the generator, you are going to preprocess the images as you have images of 2 different dimensions as well as create a batch of video frames. You have to experiment with `img_idx`, `y`,`z` and normalization such that you get high accuracy."
   ]
  },
  {
   "cell_type": "code",
   "execution_count": 11,
   "metadata": {
    "id": "9hRkEj8TZHH3"
   },
   "outputs": [],
   "source": [
    "def generator(source_path, folder_list, batch_size):\n",
    "    print( 'Source path = ', source_path, '; batch size =', batch_size)\n",
    "    img_idx = list(range(30))   #create a list of image numbers you want to use for a particular video, incase if you want conclusion from 15 itself u can use 15\n",
    "    while True:\n",
    "        t = np.random.permutation(folder_list)\n",
    "\n",
    "        num_batches = len(t) // batch_size # calculate the number of batches = 6\n",
    "        #print(t=663)\n",
    "        for batch in range(num_batches): # we iterate over the number of batches\n",
    "            batch_data = np.zeros((batch_size,30,100,100,3)) # x is the number of images you use for each video, (y,z) is the final size of the input images and 3 is the number of channels RGB\n",
    "            batch_labels = np.zeros((batch_size,5)) # batch_labels is the one hot representation of the output\n",
    "            for folder in range(batch_size): # iterate over the batch_size\n",
    "                imgs = os.listdir(source_path+'/'+ t[folder + (batch*batch_size)].split(';')[0]) # read all the images in the folder\n",
    "                #print(imgs = 30)\n",
    "                for idx,item in enumerate(img_idx): #  Iterate iver the frames/images of a folder to read them in\n",
    "                    #image = imread(source_path+'/'+ t[folder + (batch*batch_size)].strip().split(';')[0]+'/'+imgs[item]).astype(np.float32)\n",
    "                    image_path = (source_path+'/'+ t[folder + (batch*batch_size)].strip().split(';')[0]+'/'+imgs[item])\n",
    "                    #print(type(image_path),image_path)\n",
    "                    #crop the images and resize them. Note that the images are of 2 different shape\n",
    "                    #and the conv3D will throw error if the inputs in a batch have different shapes\n",
    "                    image = cv2.imread(image_path)\n",
    "\n",
    "                    # Define the target size\n",
    "                    target_height = 100\n",
    "                    target_width = 100\n",
    "\n",
    "                    # Get the original dimensions\n",
    "                    original_height, original_width = image.shape[:2]\n",
    "                    # Check if the image is larger than the target size\n",
    "                    if original_height > target_height or original_width > target_width:\n",
    "                        # Resize the image to fit the target size (without distortion)\n",
    "                        scale_width = target_width / original_width\n",
    "                        scale_height = target_height / original_height\n",
    "                        scale = min(scale_width, scale_height)  # Use the smaller scale factor\n",
    "\n",
    "                        new_width = int(original_width * scale)\n",
    "                        new_height = int(original_height * scale)\n",
    "                        resized_image = cv2.resize(image, (new_width, new_height))\n",
    "\n",
    "                        # Create a blank canvas with the target size\n",
    "                        padded_image = np.zeros((target_height, target_width, 3), dtype=np.uint8)\n",
    "\n",
    "                        # Calculate the offset to center the resized image on the canvas\n",
    "                        y_offset = (target_height - new_height) // 2\n",
    "                        x_offset = (target_width - new_width) // 2\n",
    "\n",
    "                        # Place the resized image on the canvas\n",
    "                        padded_image[y_offset:y_offset+new_height, x_offset:x_offset+new_width] = resized_image\n",
    "\n",
    "                    else:\n",
    "                        # If the image is smaller, pad it to the target size\n",
    "                        pad_top = (target_height - original_height) // 2\n",
    "                        pad_bottom = target_height - original_height - pad_top\n",
    "                        pad_left = (target_width - original_width) // 2\n",
    "                        pad_right = target_width - original_width - pad_left\n",
    "\n",
    "                        # Add padding to the image\n",
    "                        padded_image = cv2.copyMakeBorder(image, pad_top, pad_bottom, pad_left, pad_right,\n",
    "                                      cv2.BORDER_CONSTANT, value=(0, 0, 0))\n",
    "\n",
    "\n",
    "                    # Optionally, save the processed image (either resized or cropped)\n",
    "                    cv2.imwrite(image_path, padded_image)\n",
    "\n",
    "                    #resized_image = cv2.resize(image,(200,200))\n",
    "                    image_array = np.array(padded_image)\n",
    "                    batch_data[folder,idx,:,:,:] = image_array / 255.0\n",
    "                    ##batch_data[folder,idx,:,:,1] = image_array / 255.0\n",
    "                    #batch_data[folder,idx,:,:,2] = image_array / 255.0\n",
    "                batch_labels[folder, int(t[folder + (batch*batch_size)].strip().split(';')[2])] = 1\n",
    "\n",
    "            yield batch_data, batch_labels #you yield the batch_data and the batch_labels, remember what does yield do\n",
    "            #print(batch_data,batch_labels)\n",
    "\n",
    "\n",
    "\n",
    "        ##code draw last thirteen folder images\n",
    "        leftoverfoldersize = len(t) % batch_size\n",
    "        folder2=t[-leftoverfoldersize:]\n",
    "        for folderindex in range(leftoverfoldersize):\n",
    "            imagelist=os.listdir(source_path+'/'+ folder2[folderindex].split(';')[0])\n",
    "            for idx,item in enumerate(img_idx):\n",
    "                image_path = (source_path+'/'+ folder2[folderindex].strip().split(';')[0]+'/'+imagelist[item])\n",
    "                #print(type(image_path),image_path)\n",
    "                #crop the images and resize them. Note that the images are of 2 different shape\n",
    "                #and the conv3D will throw error if the inputs in a batch have different shapes\n",
    "                image = cv2.imread(image_path)\n",
    "\n",
    "                # Define the target size\n",
    "                target_height = 100\n",
    "                target_width = 100\n",
    "\n",
    "                # Get the original dimensions\n",
    "                original_height, original_width = image.shape[:2]\n",
    "                # Check if the image is larger than the target size\n",
    "                if original_height > target_height or original_width > target_width:\n",
    "                    # Resize the image to fit the target size (without distortion)\n",
    "                    scale_width = target_width / original_width\n",
    "                    scale_height = target_height / original_height\n",
    "                    scale = min(scale_width, scale_height)  # Use the smaller scale factor\n",
    "\n",
    "                    new_width = int(original_width * scale)\n",
    "                    new_height = int(original_height * scale)\n",
    "                    resized_image = cv2.resize(image, (new_width, new_height))\n",
    "\n",
    "                    # Create a blank canvas with the target size\n",
    "                    padded_image = np.zeros((target_height, target_width, 3), dtype=np.uint8)\n",
    "\n",
    "                    # Calculate the offset to center the resized image on the canvas\n",
    "                    y_offset = (target_height - new_height) // 2\n",
    "                    x_offset = (target_width - new_width) // 2\n",
    "\n",
    "                    # Place the resized image on the canvas\n",
    "                    padded_image[y_offset:y_offset+new_height, x_offset:x_offset+new_width] = resized_image\n",
    "\n",
    "                else:\n",
    "                    # If the image is smaller, pad it to the target size\n",
    "                    pad_top = (target_height - original_height) // 2\n",
    "                    pad_bottom = target_height - original_height - pad_top\n",
    "                    pad_left = (target_width - original_width) // 2\n",
    "                    pad_right = target_width - original_width - pad_left\n",
    "\n",
    "                    # Add padding to the image\n",
    "                    padded_image = cv2.copyMakeBorder(image, pad_top, pad_bottom, pad_left, pad_right,\n",
    "                                      cv2.BORDER_CONSTANT, value=(0, 0, 0))\n",
    "\n",
    "\n",
    "                    # Optionally, save the processed image (either resized or cropped)\n",
    "                    cv2.imwrite(image_path, padded_image)\n",
    "\n",
    "                    #resized_image = cv2.resize(image,(200,200))\n",
    "                    image_array = np.array(padded_image)\n",
    "                    batch_data[folder,idx,:,:,:] = image_array / 255.0\n",
    "                    ##batch_data[folder,idx,:,:,1] = image_array / 255.0\n",
    "                    #batch_data[folder,idx,:,:,2] = image_array / 255.0\n",
    "            batch_labels[folder, int(t[folder + (batch*batch_size)].strip().split(';')[2])] = 1\n",
    "\n",
    "        yield batch_data, batch_labels #you yield the batch_data and the batch_labels, remember what does yield do\n",
    "\n",
    "    \n"
   ]
  },
  {
   "cell_type": "markdown",
   "metadata": {
    "id": "3qEdNxaX1CsM"
   },
   "source": [
    "Note here that a video is represented above in the generator as (number of images, height, width, number of channels). Take this into consideration while creating the model architecture."
   ]
  },
  {
   "cell_type": "code",
   "execution_count": 12,
   "metadata": {
    "colab": {
     "base_uri": "https://localhost:8080/"
    },
    "id": "clZIDkFS1CsN",
    "outputId": "fe07e779-d296-43d3-b245-e39929914d23"
   },
   "outputs": [
    {
     "name": "stdout",
     "output_type": "stream",
     "text": [
      "# training sequences = 663\n",
      "# validation sequences = 100\n",
      "# epochs = 20\n"
     ]
    }
   ],
   "source": [
    "curr_dt_time = datetime.datetime.now()\n",
    "train_path = '/home/dl_content/Upgrad DL/Gesture Recognition Assignment/Project_data/Project_data/train'\n",
    "val_path = '/home/dl_content/Upgrad DL/Gesture Recognition Assignment/Project_data/Project_data/val'\n",
    "num_train_sequences = len(train_doc)\n",
    "print('# training sequences =', num_train_sequences)\n",
    "num_val_sequences = len(val_doc)\n",
    "print('# validation sequences =', num_val_sequences)\n",
    "num_epochs = 20# choose the number of epochs\n",
    "print ('# epochs =', num_epochs)"
   ]
  },
  {
   "cell_type": "markdown",
   "metadata": {
    "id": "2J-aDyMs1CsO"
   },
   "source": [
    "## Model\n",
    "Here you make the model using different functionalities that Keras provides. Remember to use `Conv3D` and `MaxPooling3D` and not `Conv2D` and `Maxpooling2D` for a 3D convolution model. You would want to use `TimeDistributed` while building a Conv2D + RNN model. Also remember that the last layer is the softmax. Design the network in such a way that the model is able to give good accuracy on the least number of parameters so that it can fit in the memory of the webcam."
   ]
  },
  {
   "cell_type": "code",
   "execution_count": 13,
   "metadata": {
    "id": "NuA0YgK11CsP"
   },
   "outputs": [
    {
     "name": "stderr",
     "output_type": "stream",
     "text": [
      "2025-01-23 12:31:59.102964: W tensorflow/core/common_runtime/gpu/gpu_bfc_allocator.cc:39] Overriding allow_growth setting because the TF_FORCE_GPU_ALLOW_GROWTH environment variable is set. Original config value was 0.\n",
      "2025-01-23 12:31:59.103060: I tensorflow/core/common_runtime/gpu/gpu_device.cc:1525] Created device /job:localhost/replica:0/task:0/device:GPU:0 with 14800 MB memory:  -> device: 0, name: Quadro RTX 5000, pci bus id: 0000:1d:00.0, compute capability: 7.5\n"
     ]
    }
   ],
   "source": [
    "from keras.models import Sequential, Model\n",
    "from keras.layers import Dense, GRU, Flatten, TimeDistributed, Flatten, BatchNormalization, Activation\n",
    "#from keras.layers.convolutional import Conv3D, MaxPooling3D\n",
    "from tensorflow.keras.layers import Conv3D\n",
    "from keras.callbacks import ModelCheckpoint, ReduceLROnPlateau\n",
    "from keras import optimizers\n",
    "\n",
    "\n",
    "\n",
    "model = Sequential()\n",
    "model.add(Conv3D(32, kernel_size=(3, 3, 3), activation='relu', kernel_initializer='he_uniform', input_shape=(30,100,100,3)))\n",
    "model.add(MaxPooling3D(pool_size=(2, 2, 2)))\n",
    "model.add(Conv3D(64, kernel_size=(3, 3, 3), activation='relu', kernel_initializer='he_uniform'))\n",
    "model.add(MaxPooling3D(pool_size=(2, 2, 2)))\n",
    "model.add(Flatten())\n",
    "model.add(Dense(256, activation='relu', kernel_initializer='he_uniform'))\n",
    "model.add(Dense(5, activation='softmax'))\n",
    "\n"
   ]
  },
  {
   "cell_type": "markdown",
   "metadata": {
    "id": "W-CH6W_I1CsP"
   },
   "source": [
    "Now that you have written the model, the next step is to `compile` the model. When you print the `summary` of the model, you'll see the total number of parameters you have to train."
   ]
  },
  {
   "cell_type": "code",
   "execution_count": 14,
   "metadata": {
    "colab": {
     "base_uri": "https://localhost:8080/",
     "height": 370
    },
    "id": "_WqkqpP41CsQ",
    "outputId": "fbf3c7af-d29d-4164-f395-10b1e9b2ad1a",
    "scrolled": true
   },
   "outputs": [
    {
     "name": "stdout",
     "output_type": "stream",
     "text": [
      "Model: \"sequential\"\n",
      "_________________________________________________________________\n",
      " Layer (type)                Output Shape              Param #   \n",
      "=================================================================\n",
      " conv3d (Conv3D)             (None, 28, 98, 98, 32)    2624      \n",
      "                                                                 \n",
      " max_pooling3d (MaxPooling3D  (None, 14, 49, 49, 32)   0         \n",
      " )                                                               \n",
      "                                                                 \n",
      " conv3d_1 (Conv3D)           (None, 12, 47, 47, 64)    55360     \n",
      "                                                                 \n",
      " max_pooling3d_1 (MaxPooling  (None, 6, 23, 23, 64)    0         \n",
      " 3D)                                                             \n",
      "                                                                 \n",
      " flatten (Flatten)           (None, 203136)            0         \n",
      "                                                                 \n",
      " dense (Dense)               (None, 256)               52003072  \n",
      "                                                                 \n",
      " dense_1 (Dense)             (None, 5)                 1285      \n",
      "                                                                 \n",
      "=================================================================\n",
      "Total params: 52,062,341\n",
      "Trainable params: 52,062,341\n",
      "Non-trainable params: 0\n",
      "_________________________________________________________________\n",
      "None\n"
     ]
    }
   ],
   "source": [
    "optimiser = 'adam'\n",
    "model.compile(optimizer=optimiser, loss='categorical_crossentropy', metrics=['categorical_accuracy'])\n",
    "print (model.summary())"
   ]
  },
  {
   "cell_type": "markdown",
   "metadata": {
    "id": "QjJLx2kB1CsQ"
   },
   "source": [
    "Let us create the `train_generator` and the `val_generator` which will be used in `.fit_generator`."
   ]
  },
  {
   "cell_type": "code",
   "execution_count": 15,
   "metadata": {
    "colab": {
     "base_uri": "https://localhost:8080/"
    },
    "id": "hUnRpxTf1CsR",
    "outputId": "5ce18453-6b71-48de-8a01-614dcbff52ab"
   },
   "outputs": [
    {
     "name": "stdout",
     "output_type": "stream",
     "text": [
      "<class 'generator'>\n"
     ]
    }
   ],
   "source": [
    "train_generator=generator(train_path, train_doc, batch_size)\n",
    "print(type(train_generator))\n",
    "val_generator = generator(val_path, val_doc, batch_size)"
   ]
  },
  {
   "cell_type": "code",
   "execution_count": 16,
   "metadata": {
    "id": "FoPE_I4X1CsR"
   },
   "outputs": [],
   "source": [
    "model_name = 'model_init' + '_' + str(curr_dt_time).replace(' ','').replace(':','_') + '/'\n",
    "\n",
    "if not os.path.exists(model_name):\n",
    "    os.mkdir(model_name)\n",
    "\n",
    "filepath = model_name + 'model-{epoch:05d}-{loss:.5f}-{categorical_accuracy:.5f}-{val_loss:.5f}-{val_categorical_accuracy:.5f}.keras'\n",
    "\n",
    "checkpoint = ModelCheckpoint(filepath, monitor='val_loss', verbose=1, save_best_only=False, save_weights_only=False, mode='auto',save_freq='epoch')\n",
    "\n",
    "\n",
    "LR = ReduceLROnPlateau(monitor='val_loss', factor=0.5, patience=5, min_lr=0.0001, verbose=1) # Define a learning rate scheduler\n",
    "\n",
    "callbacks_list = [checkpoint, LR]"
   ]
  },
  {
   "cell_type": "markdown",
   "metadata": {
    "id": "5k1we7gZ1CsS"
   },
   "source": [
    "The `steps_per_epoch` and `validation_steps` are used by `fit_generator` to decide the number of next() calls it need to make."
   ]
  },
  {
   "cell_type": "code",
   "execution_count": 17,
   "metadata": {
    "id": "YRaBRcG51CsS"
   },
   "outputs": [],
   "source": [
    "if (num_train_sequences%batch_size) == 0:\n",
    "    steps_per_epoch = int(num_train_sequences/batch_size)\n",
    "else:\n",
    "    steps_per_epoch = (num_train_sequences//batch_size) + 1\n",
    "\n",
    "if (num_val_sequences%batch_size) == 0:\n",
    "    validation_steps = int(num_val_sequences/batch_size)\n",
    "else:\n",
    "    validation_steps = (num_val_sequences//batch_size) + 1"
   ]
  },
  {
   "cell_type": "markdown",
   "metadata": {
    "id": "50kPVO261CsT"
   },
   "source": [
    "Let us now fit the model. This will start training the model and with the help of the checkpoints, you'll be able to save the model at the end of each epoch."
   ]
  },
  {
   "cell_type": "code",
   "execution_count": 18,
   "metadata": {
    "colab": {
     "base_uri": "https://localhost:8080/"
    },
    "id": "eOXDU5Ql1CsT",
    "outputId": "b1e2f2b9-5836-4a25-b43f-1c62b1f8d391"
   },
   "outputs": [
    {
     "name": "stdout",
     "output_type": "stream",
     "text": [
      "Source path =  /home/dl_content/Upgrad DL/Gesture Recognition Assignment/Project_data/Project_data/train ; batch size = 50\n",
      "Epoch 1/20\n"
     ]
    },
    {
     "name": "stderr",
     "output_type": "stream",
     "text": [
      "2025-01-23 12:32:04.726704: I tensorflow/stream_executor/cuda/cuda_dnn.cc:377] Loaded cuDNN version 8302\n"
     ]
    },
    {
     "name": "stdout",
     "output_type": "stream",
     "text": [
      "14/14 [==============================] - ETA: 0s - loss: 27.3335 - categorical_accuracy: 0.2214Source path =  /home/dl_content/Upgrad DL/Gesture Recognition Assignment/Project_data/Project_data/val ; batch size = 50\n",
      "\n",
      "Epoch 00001: saving model to model_init_2025-01-2312_31_58.157348/model-00001-27.33346-0.22143-1.49587-0.30000.keras\n",
      "14/14 [==============================] - 56s 4s/step - loss: 27.3335 - categorical_accuracy: 0.2214 - val_loss: 1.4959 - val_categorical_accuracy: 0.3000 - lr: 0.0010\n",
      "Epoch 2/20\n",
      "14/14 [==============================] - ETA: 0s - loss: 1.2710 - categorical_accuracy: 0.4757\n",
      "Epoch 00002: saving model to model_init_2025-01-2312_31_58.157348/model-00002-1.27103-0.47571-1.37740-0.46000.keras\n",
      "14/14 [==============================] - 31s 2s/step - loss: 1.2710 - categorical_accuracy: 0.4757 - val_loss: 1.3774 - val_categorical_accuracy: 0.4600 - lr: 0.0010\n",
      "Epoch 3/20\n",
      "14/14 [==============================] - ETA: 0s - loss: 0.7173 - categorical_accuracy: 0.7771\n",
      "Epoch 00003: saving model to model_init_2025-01-2312_31_58.157348/model-00003-0.71727-0.77714-0.96949-0.66000.keras\n",
      "14/14 [==============================] - 32s 2s/step - loss: 0.7173 - categorical_accuracy: 0.7771 - val_loss: 0.9695 - val_categorical_accuracy: 0.6600 - lr: 0.0010\n",
      "Epoch 4/20\n",
      "14/14 [==============================] - ETA: 0s - loss: 0.3342 - categorical_accuracy: 0.9029\n",
      "Epoch 00004: saving model to model_init_2025-01-2312_31_58.157348/model-00004-0.33418-0.90286-1.07141-0.71000.keras\n",
      "14/14 [==============================] - 33s 2s/step - loss: 0.3342 - categorical_accuracy: 0.9029 - val_loss: 1.0714 - val_categorical_accuracy: 0.7100 - lr: 0.0010\n",
      "Epoch 5/20\n",
      "14/14 [==============================] - ETA: 0s - loss: 0.0988 - categorical_accuracy: 0.9814\n",
      "Epoch 00005: saving model to model_init_2025-01-2312_31_58.157348/model-00005-0.09883-0.98143-1.26810-0.72000.keras\n",
      "14/14 [==============================] - 32s 2s/step - loss: 0.0988 - categorical_accuracy: 0.9814 - val_loss: 1.2681 - val_categorical_accuracy: 0.7200 - lr: 0.0010\n",
      "Epoch 6/20\n",
      "14/14 [==============================] - ETA: 0s - loss: 0.0573 - categorical_accuracy: 0.9914\n",
      "Epoch 00006: saving model to model_init_2025-01-2312_31_58.157348/model-00006-0.05732-0.99143-1.32914-0.77000.keras\n",
      "14/14 [==============================] - 40s 3s/step - loss: 0.0573 - categorical_accuracy: 0.9914 - val_loss: 1.3291 - val_categorical_accuracy: 0.7700 - lr: 0.0010\n",
      "Epoch 7/20\n",
      "14/14 [==============================] - ETA: 0s - loss: 0.0297 - categorical_accuracy: 0.9943\n",
      "Epoch 00007: saving model to model_init_2025-01-2312_31_58.157348/model-00007-0.02973-0.99429-1.43450-0.80000.keras\n",
      "14/14 [==============================] - 31s 2s/step - loss: 0.0297 - categorical_accuracy: 0.9943 - val_loss: 1.4345 - val_categorical_accuracy: 0.8000 - lr: 0.0010\n",
      "Epoch 8/20\n",
      "14/14 [==============================] - ETA: 0s - loss: 0.0269 - categorical_accuracy: 0.9986\n",
      "Epoch 00008: saving model to model_init_2025-01-2312_31_58.157348/model-00008-0.02686-0.99857-1.37008-0.79000.keras\n",
      "\n",
      "Epoch 00008: ReduceLROnPlateau reducing learning rate to 0.0005000000237487257.\n",
      "14/14 [==============================] - 33s 2s/step - loss: 0.0269 - categorical_accuracy: 0.9986 - val_loss: 1.3701 - val_categorical_accuracy: 0.7900 - lr: 0.0010\n",
      "Epoch 9/20\n",
      "14/14 [==============================] - ETA: 0s - loss: 0.0231 - categorical_accuracy: 0.9971\n",
      "Epoch 00009: saving model to model_init_2025-01-2312_31_58.157348/model-00009-0.02314-0.99714-1.36328-0.78000.keras\n",
      "14/14 [==============================] - 33s 2s/step - loss: 0.0231 - categorical_accuracy: 0.9971 - val_loss: 1.3633 - val_categorical_accuracy: 0.7800 - lr: 5.0000e-04\n",
      "Epoch 10/20\n",
      "14/14 [==============================] - ETA: 0s - loss: 0.0267 - categorical_accuracy: 0.9971\n",
      "Epoch 00010: saving model to model_init_2025-01-2312_31_58.157348/model-00010-0.02672-0.99714-1.39872-0.75000.keras\n",
      "14/14 [==============================] - 33s 3s/step - loss: 0.0267 - categorical_accuracy: 0.9971 - val_loss: 1.3987 - val_categorical_accuracy: 0.7500 - lr: 5.0000e-04\n",
      "Epoch 11/20\n",
      "14/14 [==============================] - ETA: 0s - loss: 0.0046 - categorical_accuracy: 1.0000\n",
      "Epoch 00011: saving model to model_init_2025-01-2312_31_58.157348/model-00011-0.00458-1.00000-1.55658-0.74000.keras\n",
      "14/14 [==============================] - 33s 3s/step - loss: 0.0046 - categorical_accuracy: 1.0000 - val_loss: 1.5566 - val_categorical_accuracy: 0.7400 - lr: 5.0000e-04\n",
      "Epoch 12/20\n",
      "14/14 [==============================] - ETA: 0s - loss: 0.0031 - categorical_accuracy: 1.0000\n",
      "Epoch 00012: saving model to model_init_2025-01-2312_31_58.157348/model-00012-0.00313-1.00000-1.58107-0.75000.keras\n",
      "14/14 [==============================] - 33s 3s/step - loss: 0.0031 - categorical_accuracy: 1.0000 - val_loss: 1.5811 - val_categorical_accuracy: 0.7500 - lr: 5.0000e-04\n",
      "Epoch 13/20\n",
      "14/14 [==============================] - ETA: 0s - loss: 0.0206 - categorical_accuracy: 0.9986\n",
      "Epoch 00013: saving model to model_init_2025-01-2312_31_58.157348/model-00013-0.02059-0.99857-1.60281-0.78000.keras\n",
      "\n",
      "Epoch 00013: ReduceLROnPlateau reducing learning rate to 0.0002500000118743628.\n",
      "14/14 [==============================] - 32s 2s/step - loss: 0.0206 - categorical_accuracy: 0.9986 - val_loss: 1.6028 - val_categorical_accuracy: 0.7800 - lr: 5.0000e-04\n",
      "Epoch 14/20\n",
      "14/14 [==============================] - ETA: 0s - loss: 0.0178 - categorical_accuracy: 0.9986\n",
      "Epoch 00014: saving model to model_init_2025-01-2312_31_58.157348/model-00014-0.01781-0.99857-1.64308-0.78000.keras\n",
      "14/14 [==============================] - 33s 3s/step - loss: 0.0178 - categorical_accuracy: 0.9986 - val_loss: 1.6431 - val_categorical_accuracy: 0.7800 - lr: 2.5000e-04\n",
      "Epoch 15/20\n",
      "14/14 [==============================] - ETA: 0s - loss: 0.0413 - categorical_accuracy: 0.9957\n",
      "Epoch 00015: saving model to model_init_2025-01-2312_31_58.157348/model-00015-0.04132-0.99571-1.44450-0.75000.keras\n",
      "14/14 [==============================] - 32s 2s/step - loss: 0.0413 - categorical_accuracy: 0.9957 - val_loss: 1.4445 - val_categorical_accuracy: 0.7500 - lr: 2.5000e-04\n",
      "Epoch 16/20\n",
      "14/14 [==============================] - ETA: 0s - loss: 0.0049 - categorical_accuracy: 1.0000\n",
      "Epoch 00016: saving model to model_init_2025-01-2312_31_58.157348/model-00016-0.00487-1.00000-1.45636-0.75000.keras\n",
      "14/14 [==============================] - 37s 3s/step - loss: 0.0049 - categorical_accuracy: 1.0000 - val_loss: 1.4564 - val_categorical_accuracy: 0.7500 - lr: 2.5000e-04\n",
      "Epoch 17/20\n",
      "14/14 [==============================] - ETA: 0s - loss: 0.0166 - categorical_accuracy: 0.9986\n",
      "Epoch 00017: saving model to model_init_2025-01-2312_31_58.157348/model-00017-0.01657-0.99857-1.53947-0.73000.keras\n",
      "14/14 [==============================] - 41s 3s/step - loss: 0.0166 - categorical_accuracy: 0.9986 - val_loss: 1.5395 - val_categorical_accuracy: 0.7300 - lr: 2.5000e-04\n",
      "Epoch 18/20\n",
      "14/14 [==============================] - ETA: 0s - loss: 0.0185 - categorical_accuracy: 0.9986\n",
      "Epoch 00018: saving model to model_init_2025-01-2312_31_58.157348/model-00018-0.01850-0.99857-1.50181-0.73000.keras\n",
      "\n",
      "Epoch 00018: ReduceLROnPlateau reducing learning rate to 0.0001250000059371814.\n",
      "14/14 [==============================] - 30s 2s/step - loss: 0.0185 - categorical_accuracy: 0.9986 - val_loss: 1.5018 - val_categorical_accuracy: 0.7300 - lr: 2.5000e-04\n",
      "Epoch 19/20\n",
      "14/14 [==============================] - ETA: 0s - loss: 0.0242 - categorical_accuracy: 0.9986\n",
      "Epoch 00019: saving model to model_init_2025-01-2312_31_58.157348/model-00019-0.02425-0.99857-1.43796-0.76000.keras\n",
      "14/14 [==============================] - 32s 2s/step - loss: 0.0242 - categorical_accuracy: 0.9986 - val_loss: 1.4380 - val_categorical_accuracy: 0.7600 - lr: 1.2500e-04\n",
      "Epoch 20/20\n",
      "14/14 [==============================] - ETA: 0s - loss: 0.0091 - categorical_accuracy: 0.9986\n",
      "Epoch 00020: saving model to model_init_2025-01-2312_31_58.157348/model-00020-0.00907-0.99857-1.35244-0.76000.keras\n",
      "14/14 [==============================] - 31s 2s/step - loss: 0.0091 - categorical_accuracy: 0.9986 - val_loss: 1.3524 - val_categorical_accuracy: 0.7600 - lr: 1.2500e-04\n"
     ]
    },
    {
     "data": {
      "text/plain": [
       "<keras.callbacks.History at 0x7f82d11c7ca0>"
      ]
     },
     "execution_count": 18,
     "metadata": {},
     "output_type": "execute_result"
    }
   ],
   "source": [
    "model.fit(train_generator, steps_per_epoch=steps_per_epoch, epochs=num_epochs, verbose=1,\n",
    "                    callbacks=callbacks_list, validation_data=val_generator,\n",
    "                    validation_steps=validation_steps, class_weight=None,\n",
    "           initial_epoch=0)"
   ]
  },
  {
   "cell_type": "markdown",
   "metadata": {
    "id": "74BZ7kl41CsT"
   },
   "source": [
    "##### Will bUild model with CNN+RNN architecture"
   ]
  },
  {
   "cell_type": "code",
   "execution_count": 19,
   "metadata": {},
   "outputs": [],
   "source": [
    "from tensorflow.keras.layers import Conv2D, MaxPooling2D, Flatten, LSTM, Dense, TimeDistributed, GRU\n",
    "\n",
    "# Define the model\n",
    "modellstm = Sequential()\n",
    "\n",
    "# Add CNN layers (feature extraction part)\n",
    "modellstm.add(TimeDistributed(Conv2D(32, (3, 3), activation='relu'), input_shape=(30, 100, 100, 3)))  # TimeDistributed wrapper to apply Conv2D on each frame\n",
    "modellstm.add(TimeDistributed(MaxPooling2D((2, 2))))\n",
    "\n",
    "modellstm.add(TimeDistributed(Conv2D(64, (3, 3), activation='relu')))\n",
    "modellstm.add(TimeDistributed(MaxPooling2D((2, 2))))\n",
    "\n",
    "modellstm.add(TimeDistributed(Flatten()))  # Flatten the features from each frame\n",
    "\n",
    "# Add RNN layers (sequence modeling part)\n",
    "modellstm.add(LSTM(128, return_sequences=False))  \n",
    "modellstm.add(Dense(5, activation='softmax'))  \n"
   ]
  },
  {
   "cell_type": "code",
   "execution_count": 20,
   "metadata": {},
   "outputs": [
    {
     "name": "stdout",
     "output_type": "stream",
     "text": [
      "Model: \"sequential_1\"\n",
      "_________________________________________________________________\n",
      " Layer (type)                Output Shape              Param #   \n",
      "=================================================================\n",
      " time_distributed (TimeDistr  (None, 30, 98, 98, 32)   896       \n",
      " ibuted)                                                         \n",
      "                                                                 \n",
      " time_distributed_1 (TimeDis  (None, 30, 49, 49, 32)   0         \n",
      " tributed)                                                       \n",
      "                                                                 \n",
      " time_distributed_2 (TimeDis  (None, 30, 47, 47, 64)   18496     \n",
      " tributed)                                                       \n",
      "                                                                 \n",
      " time_distributed_3 (TimeDis  (None, 30, 23, 23, 64)   0         \n",
      " tributed)                                                       \n",
      "                                                                 \n",
      " time_distributed_4 (TimeDis  (None, 30, 33856)        0         \n",
      " tributed)                                                       \n",
      "                                                                 \n",
      " lstm (LSTM)                 (None, 128)               17400320  \n",
      "                                                                 \n",
      " dense_2 (Dense)             (None, 5)                 645       \n",
      "                                                                 \n",
      "=================================================================\n",
      "Total params: 17,420,357\n",
      "Trainable params: 17,420,357\n",
      "Non-trainable params: 0\n",
      "_________________________________________________________________\n",
      "None\n"
     ]
    }
   ],
   "source": [
    "optimiser = 'adam'\n",
    "modellstm.compile(optimizer=optimiser, loss='categorical_crossentropy', metrics=['categorical_accuracy'])\n",
    "print (modellstm.summary())"
   ]
  },
  {
   "cell_type": "code",
   "execution_count": 21,
   "metadata": {},
   "outputs": [],
   "source": [
    "model_name = 'modellstm_init' + '_' + str(curr_dt_time).replace(' ','').replace(':','_') + '/'\n",
    "\n",
    "if not os.path.exists(model_name):\n",
    "    os.mkdir(model_name)\n",
    "\n",
    "filepath = model_name + 'model-{epoch:05d}-{loss:.5f}-{categorical_accuracy:.5f}-{val_loss:.5f}-{val_categorical_accuracy:.5f}.keras'\n",
    "\n",
    "checkpoint = ModelCheckpoint(filepath, monitor='val_loss', verbose=1, save_best_only=False, save_weights_only=False, mode='auto',save_freq='epoch')\n",
    "\n",
    "\n",
    "LR = ReduceLROnPlateau(monitor='val_loss', factor=0.5, patience=5, min_lr=0.0001, verbose=1) # Define a learning rate scheduler\n",
    "\n",
    "callbacks_list = [checkpoint, LR]"
   ]
  },
  {
   "cell_type": "code",
   "execution_count": 22,
   "metadata": {},
   "outputs": [],
   "source": [
    "if (num_train_sequences%batch_size) == 0:\n",
    "    steps_per_epoch = int(num_train_sequences/batch_size)\n",
    "else:\n",
    "    steps_per_epoch = (num_train_sequences//batch_size) + 1\n",
    "\n",
    "if (num_val_sequences%batch_size) == 0:\n",
    "    validation_steps = int(num_val_sequences/batch_size)\n",
    "else:\n",
    "    validation_steps = (num_val_sequences//batch_size) + 1"
   ]
  },
  {
   "cell_type": "code",
   "execution_count": 23,
   "metadata": {},
   "outputs": [
    {
     "name": "stdout",
     "output_type": "stream",
     "text": [
      "Epoch 1/20\n",
      "14/14 [==============================] - ETA: 0s - loss: 1.9557 - categorical_accuracy: 0.2429\n",
      "Epoch 00001: saving model to modellstm_init_2025-01-2312_31_58.157348/model-00001-1.95567-0.24286-1.64826-0.16000.keras\n",
      "14/14 [==============================] - 34s 2s/step - loss: 1.9557 - categorical_accuracy: 0.2429 - val_loss: 1.6483 - val_categorical_accuracy: 0.1600 - lr: 0.0010\n",
      "Epoch 2/20\n",
      "14/14 [==============================] - ETA: 0s - loss: 1.6051 - categorical_accuracy: 0.2543\n",
      "Epoch 00002: saving model to modellstm_init_2025-01-2312_31_58.157348/model-00002-1.60511-0.25429-1.58912-0.27000.keras\n",
      "14/14 [==============================] - 30s 2s/step - loss: 1.6051 - categorical_accuracy: 0.2543 - val_loss: 1.5891 - val_categorical_accuracy: 0.2700 - lr: 0.0010\n",
      "Epoch 3/20\n",
      "14/14 [==============================] - ETA: 0s - loss: 1.5720 - categorical_accuracy: 0.3000\n",
      "Epoch 00003: saving model to modellstm_init_2025-01-2312_31_58.157348/model-00003-1.57203-0.30000-1.56081-0.30000.keras\n",
      "14/14 [==============================] - 32s 2s/step - loss: 1.5720 - categorical_accuracy: 0.3000 - val_loss: 1.5608 - val_categorical_accuracy: 0.3000 - lr: 0.0010\n",
      "Epoch 4/20\n",
      "14/14 [==============================] - ETA: 0s - loss: 1.4931 - categorical_accuracy: 0.4414\n",
      "Epoch 00004: saving model to modellstm_init_2025-01-2312_31_58.157348/model-00004-1.49312-0.44143-1.45121-0.35000.keras\n",
      "14/14 [==============================] - 31s 2s/step - loss: 1.4931 - categorical_accuracy: 0.4414 - val_loss: 1.4512 - val_categorical_accuracy: 0.3500 - lr: 0.0010\n",
      "Epoch 5/20\n",
      "14/14 [==============================] - ETA: 0s - loss: 1.3813 - categorical_accuracy: 0.4914\n",
      "Epoch 00005: saving model to modellstm_init_2025-01-2312_31_58.157348/model-00005-1.38129-0.49143-1.37748-0.41000.keras\n",
      "14/14 [==============================] - 30s 2s/step - loss: 1.3813 - categorical_accuracy: 0.4914 - val_loss: 1.3775 - val_categorical_accuracy: 0.4100 - lr: 0.0010\n",
      "Epoch 6/20\n",
      "14/14 [==============================] - ETA: 0s - loss: 1.2812 - categorical_accuracy: 0.5886\n",
      "Epoch 00006: saving model to modellstm_init_2025-01-2312_31_58.157348/model-00006-1.28124-0.58857-1.32940-0.45000.keras\n",
      "14/14 [==============================] - 31s 2s/step - loss: 1.2812 - categorical_accuracy: 0.5886 - val_loss: 1.3294 - val_categorical_accuracy: 0.4500 - lr: 0.0010\n",
      "Epoch 7/20\n",
      "14/14 [==============================] - ETA: 0s - loss: 1.1743 - categorical_accuracy: 0.6571\n",
      "Epoch 00007: saving model to modellstm_init_2025-01-2312_31_58.157348/model-00007-1.17426-0.65714-1.18119-0.62000.keras\n",
      "14/14 [==============================] - 30s 2s/step - loss: 1.1743 - categorical_accuracy: 0.6571 - val_loss: 1.1812 - val_categorical_accuracy: 0.6200 - lr: 0.0010\n",
      "Epoch 8/20\n",
      "14/14 [==============================] - ETA: 0s - loss: 1.0430 - categorical_accuracy: 0.7457\n",
      "Epoch 00008: saving model to modellstm_init_2025-01-2312_31_58.157348/model-00008-1.04300-0.74571-1.18211-0.61000.keras\n",
      "14/14 [==============================] - 31s 2s/step - loss: 1.0430 - categorical_accuracy: 0.7457 - val_loss: 1.1821 - val_categorical_accuracy: 0.6100 - lr: 0.0010\n",
      "Epoch 9/20\n",
      "14/14 [==============================] - ETA: 0s - loss: 0.9698 - categorical_accuracy: 0.7600\n",
      "Epoch 00009: saving model to modellstm_init_2025-01-2312_31_58.157348/model-00009-0.96983-0.76000-1.12052-0.62000.keras\n",
      "14/14 [==============================] - 33s 2s/step - loss: 0.9698 - categorical_accuracy: 0.7600 - val_loss: 1.1205 - val_categorical_accuracy: 0.6200 - lr: 0.0010\n",
      "Epoch 10/20\n",
      "14/14 [==============================] - ETA: 0s - loss: 0.8747 - categorical_accuracy: 0.7886\n",
      "Epoch 00010: saving model to modellstm_init_2025-01-2312_31_58.157348/model-00010-0.87469-0.78857-1.06556-0.66000.keras\n",
      "14/14 [==============================] - 31s 2s/step - loss: 0.8747 - categorical_accuracy: 0.7886 - val_loss: 1.0656 - val_categorical_accuracy: 0.6600 - lr: 0.0010\n",
      "Epoch 11/20\n",
      "14/14 [==============================] - ETA: 0s - loss: 0.7567 - categorical_accuracy: 0.8429\n",
      "Epoch 00011: saving model to modellstm_init_2025-01-2312_31_58.157348/model-00011-0.75666-0.84286-1.01667-0.66000.keras\n",
      "14/14 [==============================] - 32s 2s/step - loss: 0.7567 - categorical_accuracy: 0.8429 - val_loss: 1.0167 - val_categorical_accuracy: 0.6600 - lr: 0.0010\n",
      "Epoch 12/20\n",
      "14/14 [==============================] - ETA: 0s - loss: 0.6486 - categorical_accuracy: 0.9014\n",
      "Epoch 00012: saving model to modellstm_init_2025-01-2312_31_58.157348/model-00012-0.64857-0.90143-0.93644-0.70000.keras\n",
      "14/14 [==============================] - 30s 2s/step - loss: 0.6486 - categorical_accuracy: 0.9014 - val_loss: 0.9364 - val_categorical_accuracy: 0.7000 - lr: 0.0010\n",
      "Epoch 13/20\n",
      "14/14 [==============================] - ETA: 0s - loss: 0.5646 - categorical_accuracy: 0.9186\n",
      "Epoch 00013: saving model to modellstm_init_2025-01-2312_31_58.157348/model-00013-0.56456-0.91857-0.91319-0.70000.keras\n",
      "14/14 [==============================] - 32s 2s/step - loss: 0.5646 - categorical_accuracy: 0.9186 - val_loss: 0.9132 - val_categorical_accuracy: 0.7000 - lr: 0.0010\n",
      "Epoch 14/20\n",
      "14/14 [==============================] - ETA: 0s - loss: 0.4556 - categorical_accuracy: 0.9443\n",
      "Epoch 00014: saving model to modellstm_init_2025-01-2312_31_58.157348/model-00014-0.45560-0.94429-0.90280-0.71000.keras\n",
      "14/14 [==============================] - 30s 2s/step - loss: 0.4556 - categorical_accuracy: 0.9443 - val_loss: 0.9028 - val_categorical_accuracy: 0.7100 - lr: 0.0010\n",
      "Epoch 15/20\n",
      "14/14 [==============================] - ETA: 0s - loss: 0.3771 - categorical_accuracy: 0.9614\n",
      "Epoch 00015: saving model to modellstm_init_2025-01-2312_31_58.157348/model-00015-0.37713-0.96143-0.85073-0.72000.keras\n",
      "14/14 [==============================] - 33s 2s/step - loss: 0.3771 - categorical_accuracy: 0.9614 - val_loss: 0.8507 - val_categorical_accuracy: 0.7200 - lr: 0.0010\n",
      "Epoch 16/20\n",
      "14/14 [==============================] - ETA: 0s - loss: 0.3199 - categorical_accuracy: 0.9729\n",
      "Epoch 00016: saving model to modellstm_init_2025-01-2312_31_58.157348/model-00016-0.31991-0.97286-0.85082-0.68000.keras\n",
      "14/14 [==============================] - 31s 2s/step - loss: 0.3199 - categorical_accuracy: 0.9729 - val_loss: 0.8508 - val_categorical_accuracy: 0.6800 - lr: 0.0010\n",
      "Epoch 17/20\n",
      "14/14 [==============================] - ETA: 0s - loss: 0.2691 - categorical_accuracy: 0.9814\n",
      "Epoch 00017: saving model to modellstm_init_2025-01-2312_31_58.157348/model-00017-0.26906-0.98143-0.85022-0.71000.keras\n",
      "14/14 [==============================] - 31s 2s/step - loss: 0.2691 - categorical_accuracy: 0.9814 - val_loss: 0.8502 - val_categorical_accuracy: 0.7100 - lr: 0.0010\n",
      "Epoch 18/20\n",
      "14/14 [==============================] - ETA: 0s - loss: 0.2192 - categorical_accuracy: 0.9957\n",
      "Epoch 00018: saving model to modellstm_init_2025-01-2312_31_58.157348/model-00018-0.21919-0.99571-0.84154-0.70000.keras\n",
      "14/14 [==============================] - 31s 2s/step - loss: 0.2192 - categorical_accuracy: 0.9957 - val_loss: 0.8415 - val_categorical_accuracy: 0.7000 - lr: 0.0010\n",
      "Epoch 19/20\n",
      "14/14 [==============================] - ETA: 0s - loss: 0.1953 - categorical_accuracy: 0.9943\n",
      "Epoch 00019: saving model to modellstm_init_2025-01-2312_31_58.157348/model-00019-0.19531-0.99429-0.82093-0.73000.keras\n",
      "14/14 [==============================] - 31s 2s/step - loss: 0.1953 - categorical_accuracy: 0.9943 - val_loss: 0.8209 - val_categorical_accuracy: 0.7300 - lr: 0.0010\n",
      "Epoch 20/20\n",
      "14/14 [==============================] - ETA: 0s - loss: 0.1664 - categorical_accuracy: 0.9971\n",
      "Epoch 00020: saving model to modellstm_init_2025-01-2312_31_58.157348/model-00020-0.16644-0.99714-0.81277-0.71000.keras\n",
      "14/14 [==============================] - 31s 2s/step - loss: 0.1664 - categorical_accuracy: 0.9971 - val_loss: 0.8128 - val_categorical_accuracy: 0.7100 - lr: 0.0010\n"
     ]
    },
    {
     "data": {
      "text/plain": [
       "<keras.callbacks.History at 0x7f82d11c7eb0>"
      ]
     },
     "execution_count": 23,
     "metadata": {},
     "output_type": "execute_result"
    }
   ],
   "source": [
    "modellstm.fit(train_generator, steps_per_epoch=steps_per_epoch, epochs=num_epochs, verbose=1,\n",
    "                    callbacks=callbacks_list, validation_data=val_generator,\n",
    "                    validation_steps=validation_steps, class_weight=None,\n",
    "           initial_epoch=0)"
   ]
  },
  {
   "cell_type": "code",
   "execution_count": 24,
   "metadata": {},
   "outputs": [],
   "source": [
    "##rm -rf ~/.local/share/Trash/*\n"
   ]
  },
  {
   "cell_type": "code",
   "execution_count": null,
   "metadata": {},
   "outputs": [],
   "source": []
  },
  {
   "cell_type": "code",
   "execution_count": null,
   "metadata": {},
   "outputs": [],
   "source": []
  }
 ],
 "metadata": {
  "colab": {
   "provenance": []
  },
  "kernelspec": {
   "display_name": "Python 3 (ipykernel)",
   "language": "python",
   "name": "python3"
  },
  "language_info": {
   "codemirror_mode": {
    "name": "ipython",
    "version": 3
   },
   "file_extension": ".py",
   "mimetype": "text/x-python",
   "name": "python",
   "nbconvert_exporter": "python",
   "pygments_lexer": "ipython3",
   "version": "3.8.10"
  }
 },
 "nbformat": 4,
 "nbformat_minor": 4
}
